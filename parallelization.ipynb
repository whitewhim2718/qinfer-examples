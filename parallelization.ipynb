{
 "cells": [
  {
   "cell_type": "markdown",
   "metadata": {},
   "source": [
    "# Parallelization with QInfer #"
   ]
  },
  {
   "cell_type": "markdown",
   "metadata": {},
   "source": [
    "## Setup ##"
   ]
  },
  {
   "cell_type": "markdown",
   "metadata": {},
   "source": [
    "We begin by enabling Python 3–style division, as is recommended for use in Python 2.7."
   ]
  },
  {
   "cell_type": "code",
   "execution_count": 1,
   "metadata": {
    "collapsed": false
   },
   "outputs": [],
   "source": [
    "from __future__ import division"
   ]
  },
  {
   "cell_type": "markdown",
   "metadata": {},
   "source": [
    "Next, we import the IPython parallelization library ``ipyparallel``, as well as QInfer itself and some useful things from the Python standard library."
   ]
  },
  {
   "cell_type": "code",
   "execution_count": 2,
   "metadata": {
    "collapsed": false
   },
   "outputs": [],
   "source": [
    "import ipyparallel as ipp\n",
    "import qinfer as qi\n",
    "from functools import partial"
   ]
  },
  {
   "cell_type": "markdown",
   "metadata": {},
   "source": [
    "We'll make some nice graphical examples later, so we also import Matplotlib and point it to the ``ggplot`` stylesheet if available. We'll also tell Matplotlib to plot inline in our notebook."
   ]
  },
  {
   "cell_type": "code",
   "execution_count": 3,
   "metadata": {
    "collapsed": true
   },
   "outputs": [],
   "source": [
    "%matplotlib inline\n",
    "import matplotlib.pyplot as plt\n",
    "try:\n",
    "    plt.style.use('ggplot')\n",
    "except:\n",
    "    pass"
   ]
  },
  {
   "cell_type": "markdown",
   "metadata": {},
   "source": [
    "Next, we setup the parallelization client. To start a cluster running, it's convienent to use the Jupyter Notebook extension. If you're running ``ipyparallel`` 5.0 or later, you can install the Notebook extension by running:\n",
    "```\n",
    "$ ipcluster nbextension enable\n",
    "```\n",
    "Full instructions for installing the Jupyter Notebook extension are available on the [``ipyparallel`` site](https://github.com/ipython/ipyparallel). In any case, once a cluster has been started, we can make a client that connects to it by using the ``Client()`` class."
   ]
  },
  {
   "cell_type": "code",
   "execution_count": 4,
   "metadata": {
    "collapsed": false
   },
   "outputs": [
    {
     "name": "stdout",
     "output_type": "stream",
     "text": [
      "<ipyparallel.client.client.Client object at 0x7fcf25c465d0>\n"
     ]
    }
   ],
   "source": [
    "client = ipp.Client()\n",
    "print(client)"
   ]
  },
  {
   "cell_type": "markdown",
   "metadata": {},
   "source": [
    "Once we get a client up and running, the next step is to make a *direct view* of its engines. Since we want to use all of the engines provided by the client, we index it by a slice ``[:]``."
   ]
  },
  {
   "cell_type": "code",
   "execution_count": 5,
   "metadata": {
    "collapsed": false
   },
   "outputs": [
    {
     "name": "stdout",
     "output_type": "stream",
     "text": [
      "<DirectView [0, 1, 2, 3]>\n"
     ]
    }
   ],
   "source": [
    "dview = client[:]\n",
    "print(dview)"
   ]
  },
  {
   "cell_type": "markdown",
   "metadata": {},
   "source": [
    "Next, we'll create a simple test model to try out parallelization support."
   ]
  },
  {
   "cell_type": "code",
   "execution_count": 6,
   "metadata": {
    "collapsed": false
   },
   "outputs": [
    {
     "data": {
      "text/html": [
       "\n",
       "            <strong>BinomialModel</strong> at 0x7fcf2538f910: 1 model parameter\n",
       "        <br>\n",
       "            <p>Model chain:</p>\n",
       "            <ul><li>\n",
       "            <strong>SimplePrecessionModel</strong> at 0x7fcf2538fa10: 1 model parameter\n",
       "        </li>\n",
       "            </ul>\n",
       "            "
      ],
      "text/plain": [
       "<qinfer.derived_models.BinomialModel at 0x7fcf2538f910>"
      ]
     },
     "execution_count": 6,
     "metadata": {},
     "output_type": "execute_result"
    }
   ],
   "source": [
    "serial_model = qi.BinomialModel(qi.SimplePrecessionModel())\n",
    "serial_model"
   ]
  },
  {
   "cell_type": "markdown",
   "metadata": {},
   "source": [
    "Having made this model, we can then wrap it in ``DirectViewParallelizedModel`` to parallelize its likelihood function."
   ]
  },
  {
   "cell_type": "code",
   "execution_count": 7,
   "metadata": {
    "collapsed": false
   },
   "outputs": [
    {
     "data": {
      "text/html": [
       "\n",
       "            <strong>DirectViewParallelizedModel</strong> at 0x7fcf2538f3d0: 1 model parameter\n",
       "        <br>\n",
       "            <p>Model chain:</p>\n",
       "            <ul><li>\n",
       "            <strong>BinomialModel</strong> at 0x7fcf2538f910: 1 model parameter\n",
       "        </li>\\n<li>\n",
       "            <strong>SimplePrecessionModel</strong> at 0x7fcf2538fa10: 1 model parameter\n",
       "        </li>\n",
       "            </ul>\n",
       "            "
      ],
      "text/plain": [
       "<qinfer.parallel.DirectViewParallelizedModel at 0x7fcf2538f3d0>"
      ]
     },
     "execution_count": 7,
     "metadata": {},
     "output_type": "execute_result"
    }
   ],
   "source": [
    "parallel_model = qi.DirectViewParallelizedModel(serial_model, dview)\n",
    "parallel_model"
   ]
  },
  {
   "cell_type": "markdown",
   "metadata": {},
   "source": [
    "Let's try it out by making a prior and specifying an experiment design heuristic."
   ]
  },
  {
   "cell_type": "code",
   "execution_count": 8,
   "metadata": {
    "collapsed": false
   },
   "outputs": [],
   "source": [
    "prior = qi.UniformDistribution([0, 1])\n",
    "heuristic_class = partial(qi.ExpSparseHeuristic, t_field='x', other_fields={'n_meas': 20})"
   ]
  },
  {
   "cell_type": "markdown",
   "metadata": {},
   "source": [
    "The rest is handled by ``perf_test_multiple``, which will run our example many times and report on its performance. In this case, parallelizing an individual model is a bit silly, since the simple precession likelihood is fast enough that communication costs blow away the savings from parallelization. That said, it makes an illustrative example. In practice, running a parallel model makes the most sense if the model likelihood is slow to evaluate, and if you're interested in a small number of runs."
   ]
  },
  {
   "cell_type": "code",
   "execution_count": 9,
   "metadata": {
    "collapsed": false
   },
   "outputs": [
    {
     "name": "stderr",
     "output_type": "stream",
     "text": [
      "/home/thomas/.conda/envs/science/lib/python2.7/site-packages/QInfer-1.0b4-py2.7.egg/qinfer/resamplers.py:220: ResamplerWarning: Covariance has zero norm; adding in small covariance in resampler. Consider increasing n_particles to improve covariance estimates.\n",
      "/home/thomas/.conda/envs/science/lib/python2.7/site-packages/QInfer-1.0b4-py2.7.egg/qinfer/utils.py:133: ApproximationWarning: Numerical error in covariance estimation causing positive semidefinite violation.\n"
     ]
    },
    {
     "name": "stdout",
     "output_type": "stream",
     "text": [
      "Time elapsed: 108.14 s\n"
     ]
    }
   ],
   "source": [
    "with qi.timing() as t:\n",
    "    performance = qi.perf_test_multiple(\n",
    "        100, parallel_model, 6000, prior, 200,\n",
    "        heuristic_class, progressbar=qi.IPythonProgressBar\n",
    "    )\n",
    "print(\"Time elapsed: {:0.2f} s\".format(t.delta_t))"
   ]
  },
  {
   "cell_type": "markdown",
   "metadata": {},
   "source": [
    "Let's plot the performance data to make sure that our test actually works."
   ]
  },
  {
   "cell_type": "code",
   "execution_count": 10,
   "metadata": {
    "collapsed": false
   },
   "outputs": [
    {
     "data": {
      "text/plain": [
       "<matplotlib.text.Text at 0x7fcf2524af90>"
      ]
     },
     "execution_count": 10,
     "metadata": {},
     "output_type": "execute_result"
    },
    {
     "data": {
      "image/png": "[encoded data removed]",
      "text/plain": [
       "<matplotlib.figure.Figure at 0x7fcf2521a650>"
      ]
     },
     "metadata": {},
     "output_type": "display_data"
    }
   ],
   "source": [
    "plt.semilogy(performance['loss'].mean(axis=0))\n",
    "plt.xlabel('# of Experiments')\n",
    "plt.ylabel('Bayes Risk')"
   ]
  },
  {
   "cell_type": "markdown",
   "metadata": {},
   "source": [
    "Note that, in the above plot, we see both the exponential scaling we expect as well the errors caused by numerical precision once we get very close to the true model."
   ]
  },
  {
   "cell_type": "markdown",
   "metadata": {},
   "source": [
    "As an alternative to parallelizing over model parameters, we can parallelize over trials instead. That is, we send each trial to a different engine as they are able to handle new tasks. To do so, we'll use the ``LoadBalancedView`` offered by ``ipyparallel``. Parallelizing at the trial level instead is a much faster approach in this case, as it requires much less communication between the engines and the main process."
   ]
  },
  {
   "cell_type": "code",
   "execution_count": 11,
   "metadata": {
    "collapsed": false
   },
   "outputs": [],
   "source": [
    "lbview = client.load_balanced_view()"
   ]
  },
  {
   "cell_type": "code",
   "execution_count": 12,
   "metadata": {
    "collapsed": false
   },
   "outputs": [
    {
     "ename": "RemoteError",
     "evalue": "ZipImportError(bad local file header in /home/thomas/.conda/envs/science/lib/python2.7/site-packages/QInfer-1.0b4-py2.7.egg)",
     "output_type": "error",
     "traceback": [
      "\u001b[1;31m\u001b[0m\u001b[1;31mZipImportError\u001b[0mTraceback (most recent call last)\u001b[1;32m/home/thomas/.conda/envs/science/lib/python2.7/site-packages/ipyparallel/serialize/serialize.pyc\u001b[0m in \u001b[0;36munpack_apply_message\u001b[1;34m(bufs, g, copy)\u001b[0m",
      "\u001b[0;32m    163\u001b[0m     \u001b[1;32massert\u001b[0m \u001b[0mlen\u001b[0m\u001b[1;33m(\u001b[0m\u001b[0mbufs\u001b[0m\u001b[1;33m)\u001b[0m \u001b[1;33m>=\u001b[0m \u001b[1;36m2\u001b[0m\u001b[1;33m,\u001b[0m \u001b[1;34m\"not enough buffers!\"\u001b[0m\u001b[1;33m\u001b[0m\u001b[0m",
      "\u001b[0;32m    164\u001b[0m     \u001b[0mpf\u001b[0m \u001b[1;33m=\u001b[0m \u001b[0mbuffer_to_bytes_py2\u001b[0m\u001b[1;33m(\u001b[0m\u001b[0mbufs\u001b[0m\u001b[1;33m.\u001b[0m\u001b[0mpop\u001b[0m\u001b[1;33m(\u001b[0m\u001b[1;36m0\u001b[0m\u001b[1;33m)\u001b[0m\u001b[1;33m)\u001b[0m\u001b[1;33m\u001b[0m\u001b[0m",
      "\u001b[1;32m--> 165\u001b[1;33m     \u001b[0mf\u001b[0m \u001b[1;33m=\u001b[0m \u001b[0muncan\u001b[0m\u001b[1;33m(\u001b[0m\u001b[0mpickle\u001b[0m\u001b[1;33m.\u001b[0m\u001b[0mloads\u001b[0m\u001b[1;33m(\u001b[0m\u001b[0mpf\u001b[0m\u001b[1;33m)\u001b[0m\u001b[1;33m,\u001b[0m \u001b[0mg\u001b[0m\u001b[1;33m)\u001b[0m\u001b[1;33m\u001b[0m\u001b[0m",
      "\u001b[0m\u001b[0;32m    166\u001b[0m     \u001b[0mpinfo\u001b[0m \u001b[1;33m=\u001b[0m \u001b[0mbuffer_to_bytes_py2\u001b[0m\u001b[1;33m(\u001b[0m\u001b[0mbufs\u001b[0m\u001b[1;33m.\u001b[0m\u001b[0mpop\u001b[0m\u001b[1;33m(\u001b[0m\u001b[1;36m0\u001b[0m\u001b[1;33m)\u001b[0m\u001b[1;33m)\u001b[0m\u001b[1;33m\u001b[0m\u001b[0m",
      "\u001b[0;32m    167\u001b[0m     \u001b[0minfo\u001b[0m \u001b[1;33m=\u001b[0m \u001b[0mpickle\u001b[0m\u001b[1;33m.\u001b[0m\u001b[0mloads\u001b[0m\u001b[1;33m(\u001b[0m\u001b[0mpinfo\u001b[0m\u001b[1;33m)\u001b[0m\u001b[1;33m\u001b[0m\u001b[0m",
      "\u001b[1;31mZipImportError\u001b[0m: bad local file header in /home/thomas/.conda/envs/science/lib/python2.7/site-packages/QInfer-1.0b4-py2.7.egg"
     ]
    }
   ],
   "source": [
    "with qi.timing() as t:\n",
    "    performance = qi.perf_test_multiple(\n",
    "        100, serial_model, 6000, prior, 200, heuristic_class,\n",
    "        progressbar=qi.IPythonProgressBar, apply=lbview.apply\n",
    "    )\n",
    "print(\"Time elapsed: {:0.2f} s\".format(t.delta_t))"
   ]
  },
  {
   "cell_type": "code",
   "execution_count": null,
   "metadata": {
    "collapsed": false
   },
   "outputs": [],
   "source": [
    "plt.semilogy(performance['loss'].mean(axis=0))\n",
    "plt.xlabel('# of Experiments')\n",
    "plt.ylabel('Bayes Risk')"
   ]
  }
 ],
 "metadata": {
  "kernelspec": {
   "display_name": "Python 2",
   "language": "python",
   "name": "python2"
  },
  "language_info": {
   "codemirror_mode": {
    "name": "ipython",
    "version": 2
   },
   "file_extension": ".py",
   "mimetype": "text/x-python",
   "name": "python",
   "nbconvert_exporter": "python",
   "pygments_lexer": "ipython2",
   "version": "2.7.11"
  },
  "widgets": {
   "state": {},
   "version": "1.1.1"
  }
 },
 "nbformat": 4,
 "nbformat_minor": 0
}
