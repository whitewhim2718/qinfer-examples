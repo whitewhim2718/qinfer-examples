{
 "cells": [
  {
   "cell_type": "markdown",
   "metadata": {},
   "source": [
    "# Noisy Coin Example"
   ]
  },
  {
   "cell_type": "markdown",
   "metadata": {},
   "source": [
    "## License"
   ]
  },
  {
   "cell_type": "markdown",
   "metadata": {},
   "source": [
    "## Introduction"
   ]
  },
  {
   "cell_type": "markdown",
   "metadata": {},
   "source": [
    "## Preamble"
   ]
  },
  {
   "cell_type": "markdown",
   "metadata": {},
   "source": [
    "We turn on the ``division`` feature first of all, since this is just a plain good idea when working in Python 2.x, as it is a more sensible default for scientific computing and is the default in Python 3.x anyway."
   ]
  },
  {
   "cell_type": "code",
   "execution_count": 1,
   "metadata": {
    "collapsed": false
   },
   "outputs": [],
   "source": [
    "from __future__ import division, print_function"
   ]
  },
  {
   "cell_type": "markdown",
   "metadata": {},
   "source": [
    "To get access to NumPy and matplotlib, IPython's ``%pylab`` magic command is quite useful. With the ``inline`` argument, all plots will be made a part of the notebook."
   ]
  },
  {
   "cell_type": "code",
   "execution_count": 2,
   "metadata": {
    "collapsed": false
   },
   "outputs": [],
   "source": [
    "%matplotlib inline\n",
    "import numpy as np\n",
    "import matplotlib.pyplot as plt\n",
    "try: plt.style.use('ggplot')\n",
    "except: pass"
   ]
  },
  {
   "cell_type": "markdown",
   "metadata": {},
   "source": [
    "Next, we need to import from *Qinfer*."
   ]
  },
  {
   "cell_type": "code",
   "execution_count": 3,
   "metadata": {
    "collapsed": false
   },
   "outputs": [],
   "source": [
    "# We need distributions to model priors.\n",
    "from qinfer import distributions\n",
    "# The noisy coin model has already been implmented, so let's import it here.\n",
    "from qinfer.finite_test_models import NoisyCoinModel\n",
    "# Next, we need to import the sequential Monte Carlo updater class.\n",
    "from qinfer.smc import SMCUpdater\n",
    "# We'll be demonstrating approximate likelihood evaluation (ALE) as well.\n",
    "from qinfer import ale"
   ]
  },
  {
   "cell_type": "code",
   "execution_count": 4,
   "metadata": {
    "collapsed": false
   },
   "outputs": [],
   "source": [
    "import time\n",
    "from scipy.special import betaln, gammaln"
   ]
  },
  {
   "cell_type": "markdown",
   "metadata": {},
   "source": [
    "## Analytic Solution"
   ]
  },
  {
   "cell_type": "markdown",
   "metadata": {},
   "source": [
    "In this case, we can compare to the analytic solution derived by Christopher Ferrie [cite]."
   ]
  },
  {
   "cell_type": "code",
   "execution_count": 5,
   "metadata": {
    "collapsed": false
   },
   "outputs": [],
   "source": [
    "def exactBME(k, K, a, b, gamma=1):\n",
    "    idx_k = np.arange(k+1)    \n",
    "    idx_K = np.arange(K-k+1)[np.newaxis].transpose()\n",
    "    \n",
    "    numerator   = (\n",
    "        gammaln(k+1) - gammaln(idx_k+1) - gammaln(k-idx_k+1) + gammaln(K-k+1) -\n",
    "        gammaln(idx_K+1) - gammaln(K-k-idx_K+1) + (idx_k+idx_K)*np.log(a-b) +\n",
    "        (k-idx_k)*np.log(b) + (K-k-idx_K)*np.log(1-a) +\n",
    "        betaln(idx_k+gamma+1,idx_K+gamma)\n",
    "    )\n",
    "    denominator = (\n",
    "        gammaln(k+1) - gammaln(idx_k+1) - gammaln(k-idx_k+1) + gammaln(K-k+1) -\n",
    "        gammaln(idx_K+1) - gammaln(K-k-idx_K+1) + (idx_k+idx_K)*np.log(a-b) +\n",
    "        (k-idx_k)*np.log(b) + (K-k-idx_K)*np.log(1-a) +\n",
    "        betaln(idx_k+gamma,idx_K+gamma)\n",
    "    )\n",
    "    bme = np.sum(np.exp(numerator))/np.sum(np.exp(denominator))\n",
    "        \n",
    "    var = np.sum(np.exp(\n",
    "            numerator - betaln(idx_k+gamma+1,idx_K+gamma) +\n",
    "            betaln(idx_k + gamma + 2, idx_K + gamma)\n",
    "        )) / np.sum(np.exp(denominator)) - bme ** 2\n",
    "    \n",
    "    return bme, var"
   ]
  },
  {
   "cell_type": "markdown",
   "metadata": {},
   "source": [
    "## Sequential Monte Carlo"
   ]
  },
  {
   "cell_type": "markdown",
   "metadata": {},
   "source": [
    "It's helpful to define a few constants, as we'll need to refer to them over and over below."
   ]
  },
  {
   "cell_type": "code",
   "execution_count": 6,
   "metadata": {
    "collapsed": false
   },
   "outputs": [],
   "source": [
    "N_PARTICLES = 5000\n",
    "N_EXP = 250\n",
    "N_TRIALS = 100"
   ]
  },
  {
   "cell_type": "markdown",
   "metadata": {},
   "source": [
    "Let's make a model to play with, using the prior $p \\sim \\mathrm{Uni}(0, 1)$."
   ]
  },
  {
   "cell_type": "code",
   "execution_count": 7,
   "metadata": {
    "collapsed": false
   },
   "outputs": [],
   "source": [
    "prior = distributions.UniformDistribution([0, 1])\n",
    "model = NoisyCoinModel()"
   ]
  },
  {
   "cell_type": "markdown",
   "metadata": {},
   "source": [
    "We need to allocate an array to hold performance data. A record array is a rather convienent structure for doing so. First, let's define the fields in this array,"
   ]
  },
  {
   "cell_type": "code",
   "execution_count": 8,
   "metadata": {
    "collapsed": false
   },
   "outputs": [],
   "source": [
    "performance_dtype = [\n",
    "    ('outcome', 'i1'),\n",
    "    ('est_mean', 'f8'), ('est_cov_mat', 'f8'),\n",
    "    ('true_err', 'f8'), ('resample_count', 'i8'),\n",
    "    ('elapsed_time', 'f8'),\n",
    "    ('like_count', 'i8'), ('sim_count', 'i8'),\n",
    "    ('bme', 'f8'),\n",
    "    ('var', 'f8'),\n",
    "    ('bme_err', 'f8')\n",
    "]"
   ]
  },
  {
   "cell_type": "markdown",
   "metadata": {},
   "source": [
    "... and then the array itself."
   ]
  },
  {
   "cell_type": "code",
   "execution_count": 9,
   "metadata": {
    "collapsed": false
   },
   "outputs": [],
   "source": [
    "performance = np.empty((N_TRIALS, N_EXP), dtype=performance_dtype)"
   ]
  },
  {
   "cell_type": "code",
   "execution_count": 10,
   "metadata": {
    "collapsed": false
   },
   "outputs": [],
   "source": [
    "true_params = np.empty((N_TRIALS, model.n_modelparams))"
   ]
  },
  {
   "cell_type": "markdown",
   "metadata": {},
   "source": [
    "Now, we run the experiments!"
   ]
  },
  {
   "cell_type": "code",
   "execution_count": 11,
   "metadata": {
    "collapsed": false
   },
   "outputs": [],
   "source": [
    "ALPHA = 0.1\n",
    "BETA = 0.8\n",
    "expparams = np.array([(ALPHA, BETA)], dtype=model.expparams_dtype)"
   ]
  },
  {
   "cell_type": "code",
   "execution_count": 12,
   "metadata": {
    "collapsed": false
   },
   "outputs": [],
   "source": [
    "for idx_trial in range(N_TRIALS):\n",
    "    \n",
    "    # First, make new updaters using the constructors\n",
    "    # defined above.\n",
    "    updater = SMCUpdater(model, N_PARTICLES, prior)\n",
    "    \n",
    "    # Sample true set of modelparams.\n",
    "    truemp = prior.sample()\n",
    "    true_params[idx_trial, :] = truemp\n",
    "\n",
    "    # Now loop over experiments, updating each of the\n",
    "    # updaters with the same data, so that we can compare\n",
    "    # their estimation performance.\n",
    "    for idx_exp in range(N_EXP):\n",
    "        \n",
    "        # Make a short hand for indexing the current simulation\n",
    "        # and experiment.\n",
    "        idxs = np.s_[idx_trial, idx_exp]\n",
    "        \n",
    "        # Start by simulating and recording the data.\n",
    "        outcome = model.simulate_experiment(truemp, expparams)\n",
    "        performance['outcome'][idxs] = outcome\n",
    "    \n",
    "        # Reset the like_count and sim_count\n",
    "        # properties so that we can count how many were used\n",
    "        # by this update. Note that this is a hack;\n",
    "        # an appropriate method should be added to\n",
    "        # Simulatable.\n",
    "        model._sim_count = 0\n",
    "        model._call_count = 0\n",
    "            \n",
    "        # Time the actual update.\n",
    "        tic = toc = None\n",
    "        tic = time.time()\n",
    "        updater.update(outcome, expparams)\n",
    "        performance[idxs]['elapsed_time'] = time.time() - tic\n",
    "        \n",
    "        # Record the performance of this updater.\n",
    "        est_mean = updater.est_mean()\n",
    "        performance[idxs]['est_mean'] = est_mean\n",
    "        performance[idxs]['true_err'] = np.abs(est_mean - truemp) ** 2\n",
    "        performance[idxs]['est_cov_mat'] = updater.est_covariance_mtx()\n",
    "        performance[idxs]['resample_count'] = updater.resample_count\n",
    "        performance[idxs]['like_count'] = model.call_count\n",
    "        performance[idxs]['sim_count'] = model.sim_count\n",
    "        \n",
    "        # Finally, record the ideal stats.\n",
    "        performance[idxs]['bme'], performance[idxs]['var'] = exactBME(\n",
    "            idx_exp + 1 - np.sum(performance[idxs]['outcome']), idx_exp + 1,\n",
    "            ALPHA, BETA\n",
    "        )\n",
    "        performance[idxs]['bme_err'] = np.abs(performance[idxs]['bme'] - truemp) ** 2"
   ]
  },
  {
   "cell_type": "code",
   "execution_count": 13,
   "metadata": {
    "collapsed": false
   },
   "outputs": [
    {
     "data": {
      "text/plain": [
       "[<matplotlib.lines.Line2D at 0x7f194cba0fd0>]"
      ]
     },
     "execution_count": 13,
     "metadata": {},
     "output_type": "execute_result"
    },
    {
     "data": {
      "image/png": "[encoded data removed]",
      "text/plain": [
       "<matplotlib.figure.Figure at 0x7f1950066c50>"
      ]
     },
     "metadata": {},
     "output_type": "display_data"
    }
   ],
   "source": [
    "plt.semilogy(np.mean(performance['true_err'], axis=0))"
   ]
  },
  {
   "cell_type": "code",
   "execution_count": null,
   "metadata": {
    "collapsed": false
   },
   "outputs": [],
   "source": []
  }
 ],
 "metadata": {
  "kernelspec": {
   "display_name": "Python 2",
   "language": "python",
   "name": "python2"
  },
  "language_info": {
   "codemirror_mode": {
    "name": "ipython",
    "version": 2
   },
   "file_extension": ".py",
   "mimetype": "text/x-python",
   "name": "python",
   "nbconvert_exporter": "python",
   "pygments_lexer": "ipython2",
   "version": "2.7.11"
  },
  "widgets": {
   "state": {},
   "version": "1.1.1"
  }
 },
 "nbformat": 4,
 "nbformat_minor": 0
}
