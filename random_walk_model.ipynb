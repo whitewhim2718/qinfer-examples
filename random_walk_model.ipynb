{
 "cells": [
  {
   "cell_type": "markdown",
   "metadata": {},
   "source": [
    "This notebook is a work in progress."
   ]
  },
  {
   "cell_type": "code",
   "execution_count": 1,
   "metadata": {
    "collapsed": false
   },
   "outputs": [],
   "source": [
    "from __future__ import division, print_function\n",
    "%matplotlib inline\n",
    "import numpy as np\n",
    "import matplotlib.pyplot as plt\n",
    "plt.style.use('ggplot')"
   ]
  },
  {
   "cell_type": "code",
   "execution_count": 2,
   "metadata": {
    "collapsed": false
   },
   "outputs": [],
   "source": [
    "from qinfer.finite_test_models import SimplePrecessionModel\n",
    "from qinfer.derived_models import RandomWalkModel\n",
    "from qinfer.distributions import NormalDistribution, UniformDistribution\n",
    "from qinfer.smc import SMCUpdater"
   ]
  },
  {
   "cell_type": "code",
   "execution_count": 3,
   "metadata": {
    "collapsed": false
   },
   "outputs": [],
   "source": [
    "prior = UniformDistribution([0, 1])\n",
    "step_dist = NormalDistribution(0, 0.01**2)"
   ]
  },
  {
   "cell_type": "code",
   "execution_count": 4,
   "metadata": {
    "collapsed": false
   },
   "outputs": [],
   "source": [
    "model = RandomWalkModel(SimplePrecessionModel(), step_dist)"
   ]
  },
  {
   "cell_type": "code",
   "execution_count": 5,
   "metadata": {
    "collapsed": false
   },
   "outputs": [],
   "source": [
    "updater = SMCUpdater(model, 1000, prior)"
   ]
  },
  {
   "cell_type": "code",
   "execution_count": 6,
   "metadata": {
    "collapsed": false
   },
   "outputs": [
    {
     "name": "stdout",
     "output_type": "stream",
     "text": [
      "[[ 0.24870894]] [ 0.25187264]\n"
     ]
    },
    {
     "name": "stderr",
     "output_type": "stream",
     "text": [
      "/home/thomas/.conda/envs/science/lib/python2.7/site-packages/QInfer-1.0b4-py2.7.egg/qinfer/resamplers.py:309: ResamplerWarning: Liu-West resampling failed to find valid models for 9 particles within 1000 iterations.\n"
     ]
    }
   ],
   "source": [
    "experiments = np.logspace(-2, 4, 200)\n",
    "true_model = prior.sample()\n",
    "for idx_exp, experiment in enumerate(experiments):\n",
    "    outcome = model.simulate_experiment(true_model, experiment[np.newaxis])\n",
    "    updater.update(outcome, experiment[np.newaxis])\n",
    "    \n",
    "print (true_model, updater.est_mean())"
   ]
  },
  {
   "cell_type": "code",
   "execution_count": null,
   "metadata": {
    "collapsed": false
   },
   "outputs": [],
   "source": []
  }
 ],
 "metadata": {
  "kernelspec": {
   "display_name": "Python 2",
   "language": "python",
   "name": "python2"
  },
  "language_info": {
   "codemirror_mode": {
    "name": "ipython",
    "version": 2
   },
   "file_extension": ".py",
   "mimetype": "text/x-python",
   "name": "python",
   "nbconvert_exporter": "python",
   "pygments_lexer": "ipython2",
   "version": "2.7.11"
  },
  "widgets": {
   "state": {},
   "version": "1.1.1"
  }
 },
 "nbformat": 4,
 "nbformat_minor": 0
}
